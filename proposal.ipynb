{
 "cells": [
  {
   "cell_type": "markdown",
   "metadata": {},
   "source": [
    "## Project Proposal: Grouping Galaxies by Spatial Coordinates\n",
    "\n",
    "### Objective\n",
    "Use publicly available data on several thousand galaxies to create a map of our cosmic neighborhood\n",
    "\n",
    "### Methods and Models\n",
    "- Collect data from the [NASA/IPAC Extragalactic Database (NED)](https://ned.ipac.caltech.edu/): for each galaxy in the New General Catalogue, collect declination and right ascension (angular coordinates, analogous to latitude and longitude) and redshift (can be used to estimate distance from Earth)\n",
    "- Use DBSCAN to group the data points (galaxies) into clusters\n",
    "- Easy problem: compare these clusters to real maps of galaxy distributions and evaluate the usefulness of unsupervised learning methods for learning about these and similar data\n",
    "- Hard problem: make predictions on the future evolution of these clusters (will they collapse? disband?); this is probably impossible given computational constraints, but maybe predictions could be made using momentum or similar calculations\n",
    "\n",
    "### Risks/Assumptions Associated with the Data\n",
    "The New General Catalogue consists of 7841 astronomical objects, but not all of them are galaxies. In addition, the catalogue is more comprehensive for the northern sky than the southern sky, meaning that most of the galaxies in the catalogue are above 0<sup>°</sup>. Finally, some of the entries in the NED are missing redshift values. I believe that there will still be enough galaxies to create a useful model.\n",
    "\n",
    "### Goals/Success Criteria\n",
    "- Goal: use machine learning to create a representation of the distribution of galaxies that is both accurate and visually/intellectually appealing (interactive map?)\n",
    "- Success metrics: silhouette score, comparison to real galactic clusters that are known to be gravitationally interacting\n",
    "\n",
    "### Preliminary EDA"
   ]
  },
  {
   "cell_type": "code",
   "execution_count": 11,
   "metadata": {},
   "outputs": [],
   "source": [
    "import numpy as np, pandas as pd\n",
    "import matplotlib.pyplot as plt"
   ]
  },
  {
   "cell_type": "code",
   "execution_count": null,
   "metadata": {},
   "outputs": [],
   "source": [
    "galaxies = pd.read_csv(\"partial.csv\")"
   ]
  },
  {
   "cell_type": "code",
   "execution_count": 3,
   "metadata": {},
   "outputs": [
    {
     "data": {
      "text/html": [
       "<div>\n",
       "<style scoped>\n",
       "    .dataframe tbody tr th:only-of-type {\n",
       "        vertical-align: middle;\n",
       "    }\n",
       "\n",
       "    .dataframe tbody tr th {\n",
       "        vertical-align: top;\n",
       "    }\n",
       "\n",
       "    .dataframe thead th {\n",
       "        text-align: right;\n",
       "    }\n",
       "</style>\n",
       "<table border=\"1\" class=\"dataframe\">\n",
       "  <thead>\n",
       "    <tr style=\"text-align: right;\">\n",
       "      <th></th>\n",
       "      <th>ra</th>\n",
       "      <th>dec</th>\n",
       "      <th>z</th>\n",
       "      <th>+/-</th>\n",
       "    </tr>\n",
       "  </thead>\n",
       "  <tbody>\n",
       "    <tr>\n",
       "      <th>count</th>\n",
       "      <td>6370.000000</td>\n",
       "      <td>6370.000000</td>\n",
       "      <td>6328.000000</td>\n",
       "      <td>6.293000e+03</td>\n",
       "    </tr>\n",
       "    <tr>\n",
       "      <th>mean</th>\n",
       "      <td>155.658645</td>\n",
       "      <td>11.945210</td>\n",
       "      <td>0.015722</td>\n",
       "      <td>5.995003e-05</td>\n",
       "    </tr>\n",
       "    <tr>\n",
       "      <th>std</th>\n",
       "      <td>74.735049</td>\n",
       "      <td>31.544619</td>\n",
       "      <td>0.010455</td>\n",
       "      <td>6.182737e-05</td>\n",
       "    </tr>\n",
       "    <tr>\n",
       "      <th>min</th>\n",
       "      <td>1.816000</td>\n",
       "      <td>-89.334528</td>\n",
       "      <td>-0.001001</td>\n",
       "      <td>1.000000e-06</td>\n",
       "    </tr>\n",
       "    <tr>\n",
       "      <th>25%</th>\n",
       "      <td>104.666164</td>\n",
       "      <td>-9.522851</td>\n",
       "      <td>0.007275</td>\n",
       "      <td>1.700000e-05</td>\n",
       "    </tr>\n",
       "    <tr>\n",
       "      <th>50%</th>\n",
       "      <td>183.679356</td>\n",
       "      <td>12.276527</td>\n",
       "      <td>0.014464</td>\n",
       "      <td>3.700000e-05</td>\n",
       "    </tr>\n",
       "    <tr>\n",
       "      <th>75%</th>\n",
       "      <td>206.900719</td>\n",
       "      <td>34.716464</td>\n",
       "      <td>0.022242</td>\n",
       "      <td>9.000000e-05</td>\n",
       "    </tr>\n",
       "    <tr>\n",
       "      <th>max</th>\n",
       "      <td>296.350917</td>\n",
       "      <td>89.093042</td>\n",
       "      <td>0.115660</td>\n",
       "      <td>1.490000e-03</td>\n",
       "    </tr>\n",
       "  </tbody>\n",
       "</table>\n",
       "</div>"
      ],
      "text/plain": [
       "                ra          dec            z           +/-\n",
       "count  6370.000000  6370.000000  6328.000000  6.293000e+03\n",
       "mean    155.658645    11.945210     0.015722  5.995003e-05\n",
       "std      74.735049    31.544619     0.010455  6.182737e-05\n",
       "min       1.816000   -89.334528    -0.001001  1.000000e-06\n",
       "25%     104.666164    -9.522851     0.007275  1.700000e-05\n",
       "50%     183.679356    12.276527     0.014464  3.700000e-05\n",
       "75%     206.900719    34.716464     0.022242  9.000000e-05\n",
       "max     296.350917    89.093042     0.115660  1.490000e-03"
      ]
     },
     "execution_count": 3,
     "metadata": {},
     "output_type": "execute_result"
    }
   ],
   "source": [
    "galaxies.describe()"
   ]
  },
  {
   "cell_type": "markdown",
   "metadata": {},
   "source": [
    "#### column names:\n",
    "- ra: right acension (degrees)\n",
    "- dec: declination (degrees)\n",
    "- z: redshift: (λ<sub>obs</sub> - λ<sub>emit</sub>) / λ<sub>emit</sub>; larger = farther away\n",
    "- +/-: uncertainty in z"
   ]
  },
  {
   "cell_type": "code",
   "execution_count": 10,
   "metadata": {},
   "outputs": [
    {
     "data": {
      "text/plain": [
       "name    0.000000\n",
       "ra      0.000000\n",
       "dec     0.000000\n",
       "z       0.006593\n",
       "+/-     0.012088\n",
       "dtype: float64"
      ]
     },
     "execution_count": 10,
     "metadata": {},
     "output_type": "execute_result"
    }
   ],
   "source": [
    "galaxies.isna().mean()"
   ]
  },
  {
   "cell_type": "markdown",
   "metadata": {},
   "source": [
    "#### not many nulls, so we can (probably) drop them"
   ]
  },
  {
   "cell_type": "code",
   "execution_count": 5,
   "metadata": {},
   "outputs": [
    {
     "data": {
      "text/plain": [
       "name     object\n",
       "ra      float64\n",
       "dec     float64\n",
       "z       float64\n",
       "+/-     float64\n",
       "dtype: object"
      ]
     },
     "execution_count": 5,
     "metadata": {},
     "output_type": "execute_result"
    }
   ],
   "source": [
    "galaxies.dtypes"
   ]
  },
  {
   "cell_type": "code",
   "execution_count": 12,
   "metadata": {},
   "outputs": [
    {
     "data": {
      "text/plain": [
       "(89.09304236, -89.33452778)"
      ]
     },
     "execution_count": 12,
     "metadata": {},
     "output_type": "execute_result"
    }
   ],
   "source": [
    "galaxies[\"dec\"].max(), galaxies[\"dec\"].min() # declination of the northernmost and the southernmost galaxy in the dataset"
   ]
  },
  {
   "cell_type": "code",
   "execution_count": 24,
   "metadata": {},
   "outputs": [
    {
     "data": {
      "image/png": "[encoded data removed]",
      "text/plain": [
       "<Figure size 432x288 with 1 Axes>"
      ]
     },
     "metadata": {
      "needs_background": "light"
     },
     "output_type": "display_data"
    }
   ],
   "source": [
    "galaxies[[\"dec\", \"ra\"]].plot(kind=\"hist\", bins=20); # distribution of both coordinates"
   ]
  },
  {
   "cell_type": "code",
   "execution_count": 23,
   "metadata": {},
   "outputs": [
    {
     "data": {
      "image/png": "[encoded data removed]",
      "text/plain": [
       "<Figure size 432x288 with 1 Axes>"
      ]
     },
     "metadata": {
      "needs_background": "light"
     },
     "output_type": "display_data"
    }
   ],
   "source": [
    "galaxies[\"z\"].plot(kind=\"hist\", bins=20); # distribution of redshift values"
   ]
  },
  {
   "cell_type": "markdown",
   "metadata": {},
   "source": [
    "#### This EDA was performed using a partial dataset that is about 85% the size of the full set."
   ]
  }
 ],
 "metadata": {
  "kernelspec": {
   "display_name": "Python 3",
   "language": "python",
   "name": "python3"
  },
  "language_info": {
   "codemirror_mode": {
    "name": "ipython",
    "version": 3
   },
   "file_extension": ".py",
   "mimetype": "text/x-python",
   "name": "python",
   "nbconvert_exporter": "python",
   "pygments_lexer": "ipython3",
   "version": "3.7.6"
  }
 },
 "nbformat": 4,
 "nbformat_minor": 4
}
